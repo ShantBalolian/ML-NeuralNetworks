{
  "nbformat": 4,
  "nbformat_minor": 0,
  "metadata": {
    "colab": {
      "provenance": []
    },
    "kernelspec": {
      "name": "python3",
      "display_name": "Python 3"
    },
    "language_info": {
      "name": "python"
    }
  },
  "cells": [
    {
      "cell_type": "markdown",
      "source": [
        "# Question 1\n",
        "\n",
        "---\n",
        "\n",
        "\n",
        "\n",
        "---\n",
        "\n"
      ],
      "metadata": {
        "id": "srYAJQN8_bI4"
      }
    },
    {
      "cell_type": "code",
      "source": [
        "import numpy as np\n",
        "import pandas as pd\n",
        "from matplotlib import pyplot as plt\n",
        "from sklearn.model_selection import train_test_split\n",
        "from sklearn.metrics import mean_squared_error\n",
        "from sklearn.metrics import mean_absolute_error\n",
        "import math\n",
        "from sklearn.metrics import r2_score\n",
        "import tensorflow as tf\n",
        "import keras\n",
        "\n",
        "# generate 30000 random values for x between -1 and 1\n",
        "x = np.linspace(-1, 1, 30000)\n",
        "\n",
        "# function that takes in x as an argument and returns corresponding y values.\n",
        "def generateData(x):\n",
        "  # calculate y using the function given.\n",
        "  y = (0.2*x**4) + (2*x**3) + (0.1*x**2) + 10\n",
        "  return y\n",
        "\n",
        "y = generateData(x)\n",
        "\n",
        "\n",
        "plt.title(\"initial plot of the function y = (0.2*x**4) + (2*x**3) + (0.1*x**2) + 10\\n\")\n",
        "plt.plot(x, y, color='red')\n",
        "plt.xlabel(\"x\")\n",
        "plt.ylabel(\"y\")\n",
        "plt.show()"
      ],
      "metadata": {
        "colab": {
          "base_uri": "https://localhost:8080/",
          "height": 310
        },
        "id": "esm5aWgK_cmU",
        "outputId": "8e7332fc-531e-447f-8314-a603f63208c2"
      },
      "execution_count": null,
      "outputs": [
        {
          "output_type": "display_data",
          "data": {
            "text/plain": [
              "<Figure size 432x288 with 1 Axes>"
            ],
            "image/png": "[encoded data removed]"
          },
          "metadata": {
            "needs_background": "light"
          }
        }
      ]
    },
    {
      "cell_type": "markdown",
      "source": [
        "#Question 2\n",
        "\n",
        "---\n",
        "\n",
        "\n",
        "\n",
        "---\n",
        "\n"
      ],
      "metadata": {
        "id": "6KglpAZQIbfx"
      }
    },
    {
      "cell_type": "code",
      "source": [
        "# function that shuffles the data, takes in yes or no as an argument.\n",
        "def shuffleData(x,decision):\n",
        "  if decision == 'no':\n",
        "    x = np.linspace(-1, 1, 30000)\n",
        "    y = generateData(x)\n",
        "    return x,y\n",
        "  elif decision == 'yes':\n",
        "    x = np.linspace(-1, 1, 30000)\n",
        "    np.random.shuffle(x)\n",
        "    y = generateData(x)\n",
        "    return x,y"
      ],
      "metadata": {
        "id": "hOSRbflyIqSA"
      },
      "execution_count": null,
      "outputs": []
    },
    {
      "cell_type": "markdown",
      "source": [
        "# Question 3\n",
        "\n",
        "---\n",
        "\n",
        "\n",
        "\n",
        "---\n",
        "\n"
      ],
      "metadata": {
        "id": "1Nht8qfER42v"
      }
    },
    {
      "cell_type": "code",
      "source": [
        "def splitDataIntoTrainValidationTest(x,y,testRatio,valRatio):\n",
        "  x_train, x_test, y_train, y_test = train_test_split(x, y, test_size=testRatio,shuffle=False)\n",
        "  x_train, x_val, y_train, y_val = train_test_split(x_train, y_train, test_size=valRatio,shuffle=False) # 0.25 x 0.8 = 0.2\n",
        "  return x_train, y_train, x_test, y_test, x_val, y_val "
      ],
      "metadata": {
        "id": "onFShDKkSDTj"
      },
      "execution_count": null,
      "outputs": []
    },
    {
      "cell_type": "markdown",
      "source": [
        "#Question 4 \n",
        "\n",
        "---\n",
        "\n",
        "\n",
        "\n",
        "---\n",
        "\n"
      ],
      "metadata": {
        "id": "Cb5_ZV3mVxCi"
      }
    },
    {
      "cell_type": "code",
      "source": [
        "def scaleData(x):\n",
        "  scaled = (x-min(x)) / (max(x)-min(x))\n",
        "  return scaled"
      ],
      "metadata": {
        "id": "ArL81sQ7VyeQ"
      },
      "execution_count": null,
      "outputs": []
    },
    {
      "cell_type": "markdown",
      "source": [
        "#Question 5\n",
        "\n",
        "---\n",
        "\n",
        "\n",
        "\n",
        "---\n",
        "\n"
      ],
      "metadata": {
        "id": "rKCd3FYtYJSS"
      }
    },
    {
      "cell_type": "code",
      "source": [
        "def returnMetrics(actual,predicted):\n",
        "  MAE = mean_absolute_error(actual,predicted)\n",
        "  MSE = mean_squared_error(actual,predicted)\n",
        "  RMSE = math.sqrt(MSE)\n",
        "  R2 = r2_score(actual,predicted)\n",
        "  print('The MAE is: ',MAE)\n",
        "  print('The MSE is: ',MSE)\n",
        "  print('The RMSE is: ',RMSE)\n",
        "  print('The R2 is:',R2)"
      ],
      "metadata": {
        "id": "LsuPBuJ9Yqbp"
      },
      "execution_count": null,
      "outputs": []
    },
    {
      "cell_type": "markdown",
      "source": [
        "#Implementation\n",
        "\n",
        "---\n",
        "\n",
        "\n",
        "\n",
        "---\n",
        "\n"
      ],
      "metadata": {
        "id": "BwrGOctabgdU"
      }
    },
    {
      "cell_type": "markdown",
      "source": [
        "# Next 5 cases are implemented with shuffled data"
      ],
      "metadata": {
        "id": "Zm0NeOwfEo_r"
      }
    },
    {
      "cell_type": "markdown",
      "source": [
        "# Case 1 shuffled and unscaled data"
      ],
      "metadata": {
        "id": "eOImqcoy7X9U"
      }
    },
    {
      "cell_type": "code",
      "source": [
        "# GENERATE \n",
        "x = np.linspace(-1, 1, 30000)\n",
        "y = generateData(x)\n",
        "\n",
        "# SHUFFLE\n",
        "x,y = shuffleData(x,'yes')\n",
        "print(x)\n",
        "print(y)\n",
        "\n",
        "# SPLIT\n",
        "x_train, y_train, x_test, y_test, x_val, y_val = splitDataIntoTrainValidationTest(x,y,0.50,0.40)\n",
        "\n",
        "model = keras.Sequential([\n",
        "    keras.layers.Dense(units=12, activation='relu',input_shape=(1,)),\n",
        "    keras.layers.Dense(units=8, activation='relu'),\n",
        "    keras.layers.Dense(units=4, activation='relu'),\n",
        "    keras.layers.Dense(units=1, activation='relu')\n",
        "])\n",
        "model.summary()\n",
        "model.compile(optimizer='adam', \n",
        "              loss='MSE')\n",
        "losses = model.fit(x_train, y_train,epochs=20,batch_size=12)\n",
        "evaluation = model.evaluate(x_test, y_test)\n",
        "y_pred = model.predict(x_test)\n",
        "y_pred = np.array(y_pred)\n",
        "\n",
        "print(\"The following are the metrics:\\n\")\n",
        "returnMetrics(y_test,y_pred)\n",
        "plt.plot(x_test, y_test,'r*')\n",
        "plt.title('actual test data\\n')\n",
        "plt.xlabel(\"x_test\")\n",
        "plt.ylabel(\"y_test\")\n",
        "plt.show()\n",
        "\n",
        "plt.plot(x_test, y_pred,'b*')\n",
        "plt.title('predicted data\\n')\n",
        "plt.xlabel(\"x_test\")\n",
        "plt.ylabel(\"y_pred\")\n",
        "plt.show()\n"
      ],
      "metadata": {
        "colab": {
          "base_uri": "https://localhost:8080/",
          "height": 1000
        },
        "id": "2GrP82xBbiA4",
        "outputId": "d63786a0-b78b-45d4-ea07-dece902b3311"
      },
      "execution_count": null,
      "outputs": [
        {
          "output_type": "stream",
          "name": "stdout",
          "text": [
            "[ 0.77939265  0.77745925 -0.80926031 ... -0.72985766 -0.34931164\n",
            " -0.39351312]\n",
            "[11.08143374 11.07337395  9.09129683 ...  9.33244244  9.92993452\n",
            "  9.89840808]\n",
            "Model: \"sequential_13\"\n",
            "_________________________________________________________________\n",
            " Layer (type)                Output Shape              Param #   \n",
            "=================================================================\n",
            " dense_48 (Dense)            (None, 12)                24        \n",
            "                                                                 \n",
            " dense_49 (Dense)            (None, 8)                 104       \n",
            "                                                                 \n",
            " dense_50 (Dense)            (None, 4)                 36        \n",
            "                                                                 \n",
            " dense_51 (Dense)            (None, 1)                 5         \n",
            "                                                                 \n",
            "=================================================================\n",
            "Total params: 169\n",
            "Trainable params: 169\n",
            "Non-trainable params: 0\n",
            "_________________________________________________________________\n",
            "Epoch 1/20\n",
            "750/750 [==============================] - 2s 2ms/step - loss: 21.4475\n",
            "Epoch 2/20\n",
            "750/750 [==============================] - 1s 2ms/step - loss: 0.0252\n",
            "Epoch 3/20\n",
            "750/750 [==============================] - 1s 2ms/step - loss: 0.0052\n",
            "Epoch 4/20\n",
            "750/750 [==============================] - 1s 2ms/step - loss: 0.0030\n",
            "Epoch 5/20\n",
            "750/750 [==============================] - 1s 2ms/step - loss: 0.0025\n",
            "Epoch 6/20\n",
            "750/750 [==============================] - 1s 2ms/step - loss: 0.0022\n",
            "Epoch 7/20\n",
            "750/750 [==============================] - 1s 2ms/step - loss: 0.0019\n",
            "Epoch 8/20\n",
            "750/750 [==============================] - 1s 2ms/step - loss: 0.0015\n",
            "Epoch 9/20\n",
            "750/750 [==============================] - 2s 3ms/step - loss: 0.0012\n",
            "Epoch 10/20\n",
            "750/750 [==============================] - 1s 2ms/step - loss: 9.6078e-04\n",
            "Epoch 11/20\n",
            "750/750 [==============================] - 1s 2ms/step - loss: 8.3103e-04\n",
            "Epoch 12/20\n",
            "750/750 [==============================] - 1s 2ms/step - loss: 8.1626e-04\n",
            "Epoch 13/20\n",
            "750/750 [==============================] - 1s 2ms/step - loss: 6.3448e-04\n",
            "Epoch 14/20\n",
            "750/750 [==============================] - 1s 2ms/step - loss: 6.0215e-04\n",
            "Epoch 15/20\n",
            "750/750 [==============================] - 1s 2ms/step - loss: 5.8070e-04\n",
            "Epoch 16/20\n",
            "750/750 [==============================] - 1s 2ms/step - loss: 5.4919e-04\n",
            "Epoch 17/20\n",
            "750/750 [==============================] - 1s 2ms/step - loss: 5.6229e-04\n",
            "Epoch 18/20\n",
            "750/750 [==============================] - 2s 2ms/step - loss: 4.7259e-04\n",
            "Epoch 19/20\n",
            "750/750 [==============================] - 2s 2ms/step - loss: 4.8181e-04\n",
            "Epoch 20/20\n",
            "750/750 [==============================] - 1s 2ms/step - loss: 5.1184e-04\n",
            "469/469 [==============================] - 1s 1ms/step - loss: 6.8374e-04\n",
            "469/469 [==============================] - 1s 1ms/step\n",
            "The following are the metrics:\n",
            "\n",
            "The MAE is:  0.02061797606737309\n",
            "The MSE is:  0.0006837396324315226\n",
            "The RMSE is:  0.02614841548605809\n",
            "The R2 is: 0.9988017642689445\n"
          ]
        },
        {
          "output_type": "display_data",
          "data": {
            "text/plain": [
              "<Figure size 432x288 with 1 Axes>"
            ],
            "image/png": "[encoded data removed]"
          },
          "metadata": {
            "needs_background": "light"
          }
        },
        {
          "output_type": "display_data",
          "data": {
            "text/plain": [
              "<Figure size 432x288 with 1 Axes>"
            ],
            "image/png": "[encoded data removed]"
          },
          "metadata": {
            "needs_background": "light"
          }
        }
      ]
    },
    {
      "cell_type": "markdown",
      "source": [
        "#Case 2: shuffled and unscaled\n",
        "\n",
        "---\n",
        "\n",
        "\n",
        "\n",
        "---\n",
        "\n"
      ],
      "metadata": {
        "id": "eH8qWE_RA-5C"
      }
    },
    {
      "cell_type": "code",
      "source": [
        "# GENERATE \n",
        "x = np.linspace(-1, 1, 30000)\n",
        "y = generateData(x)\n",
        "\n",
        "# SHUFFLE\n",
        "x,y = shuffleData(x,'yes')\n",
        "print(x)\n",
        "print(y)\n",
        "\n",
        "# SPLIT\n",
        "x_train, y_train, x_test, y_test, x_val, y_val = splitDataIntoTrainValidationTest(x,y,0.50,0.40)\n",
        "\n",
        "model = keras.Sequential([\n",
        "    keras.layers.Dense(units=24, activation='relu',input_shape=(1,)),\n",
        "    keras.layers.Dense(units=1, activation='relu')\n",
        "])\n",
        "model.summary()\n",
        "model.compile(optimizer='adam', \n",
        "              loss='MSE')\n",
        "losses = model.fit(x_train, y_train,epochs=20,batch_size=12)\n",
        "evaluation = model.evaluate(x_test, y_test)\n",
        "y_pred = model.predict(x_test)\n",
        "y_pred = np.array(y_pred)\n",
        "\n",
        "print(\"The following are the metrics:\\n\")\n",
        "returnMetrics(y_test,y_pred)\n",
        "plt.plot(x_test, y_test,'r*')\n",
        "plt.title('actual test data\\n')\n",
        "plt.xlabel(\"x_test\")\n",
        "plt.ylabel(\"y_test\")\n",
        "plt.show()\n",
        "\n",
        "plt.plot(x_test, y_pred,'b*')\n",
        "plt.title('predicted data\\n')\n",
        "plt.xlabel(\"x_test\")\n",
        "plt.ylabel(\"y_pred\")\n",
        "plt.show()\n"
      ],
      "metadata": {
        "colab": {
          "base_uri": "https://localhost:8080/",
          "height": 1000
        },
        "id": "_9Tc2xIFBChw",
        "outputId": "7c9a7dc7-a6e4-4fad-f498-07f89cdef780"
      },
      "execution_count": null,
      "outputs": [
        {
          "output_type": "stream",
          "name": "stdout",
          "text": [
            "[-0.32931098 -0.05276843  0.8178606  ... -0.8109937  -0.54938498\n",
            "  0.5268509 ]\n",
            "[ 9.94177194  9.99998613 11.25050124 ...  9.08548917  9.71676693\n",
            " 10.33564439]\n",
            "Model: \"sequential_1\"\n",
            "_________________________________________________________________\n",
            " Layer (type)                Output Shape              Param #   \n",
            "=================================================================\n",
            " dense_4 (Dense)             (None, 24)                48        \n",
            "                                                                 \n",
            " dense_5 (Dense)             (None, 1)                 25        \n",
            "                                                                 \n",
            "=================================================================\n",
            "Total params: 73\n",
            "Trainable params: 73\n",
            "Non-trainable params: 0\n",
            "_________________________________________________________________\n",
            "Epoch 1/20\n",
            "750/750 [==============================] - 2s 2ms/step - loss: 43.1305\n",
            "Epoch 2/20\n",
            "750/750 [==============================] - 2s 2ms/step - loss: 0.1064\n",
            "Epoch 3/20\n",
            "750/750 [==============================] - 1s 2ms/step - loss: 0.0644\n",
            "Epoch 4/20\n",
            "750/750 [==============================] - 1s 1ms/step - loss: 0.0476\n",
            "Epoch 5/20\n",
            "750/750 [==============================] - 1s 1ms/step - loss: 0.0418\n",
            "Epoch 6/20\n",
            "750/750 [==============================] - 1s 2ms/step - loss: 0.0383\n",
            "Epoch 7/20\n",
            "750/750 [==============================] - 1s 2ms/step - loss: 0.0321\n",
            "Epoch 8/20\n",
            "750/750 [==============================] - 1s 1ms/step - loss: 0.0223\n",
            "Epoch 9/20\n",
            "750/750 [==============================] - 1s 2ms/step - loss: 0.0133\n",
            "Epoch 10/20\n",
            "750/750 [==============================] - 1s 1ms/step - loss: 0.0076\n",
            "Epoch 11/20\n",
            "750/750 [==============================] - 1s 2ms/step - loss: 0.0046\n",
            "Epoch 12/20\n",
            "750/750 [==============================] - 1s 2ms/step - loss: 0.0031\n",
            "Epoch 13/20\n",
            "750/750 [==============================] - 2s 2ms/step - loss: 0.0026\n",
            "Epoch 14/20\n",
            "750/750 [==============================] - 1s 2ms/step - loss: 0.0024\n",
            "Epoch 15/20\n",
            "750/750 [==============================] - 1s 1ms/step - loss: 0.0022\n",
            "Epoch 16/20\n",
            "750/750 [==============================] - 1s 1ms/step - loss: 0.0022\n",
            "Epoch 17/20\n",
            "750/750 [==============================] - 1s 2ms/step - loss: 0.0021\n",
            "Epoch 18/20\n",
            "750/750 [==============================] - 2s 2ms/step - loss: 0.0021\n",
            "Epoch 19/20\n",
            "750/750 [==============================] - 1s 1ms/step - loss: 0.0020\n",
            "Epoch 20/20\n",
            "750/750 [==============================] - 1s 2ms/step - loss: 0.0019\n",
            "469/469 [==============================] - 1s 1ms/step - loss: 0.0019\n",
            "469/469 [==============================] - 1s 1ms/step\n",
            "The following are the metrics:\n",
            "\n",
            "The MAE is:  0.03094422595193107\n",
            "The MSE is:  0.001862905766402066\n",
            "The RMSE is:  0.04316139208137367\n",
            "The R2 is: 0.9967963161173712\n"
          ]
        },
        {
          "output_type": "display_data",
          "data": {
            "text/plain": [
              "<Figure size 432x288 with 1 Axes>"
            ],
            "image/png": "[encoded data removed]"
          },
          "metadata": {
            "needs_background": "light"
          }
        },
        {
          "output_type": "display_data",
          "data": {
            "text/plain": [
              "<Figure size 432x288 with 1 Axes>"
            ],
            "image/png": "[encoded data removed]"
          },
          "metadata": {
            "needs_background": "light"
          }
        }
      ]
    },
    {
      "cell_type": "markdown",
      "source": [
        "#Case 3: shuffled and unscaled"
      ],
      "metadata": {
        "id": "27REa22WBWA7"
      }
    },
    {
      "cell_type": "code",
      "source": [
        "# GENERATE \n",
        "x = np.linspace(-1, 1, 30000)\n",
        "y = generateData(x)\n",
        "\n",
        "# SHUFFLE\n",
        "x,y = shuffleData(x,'yes')\n",
        "print(x)\n",
        "print(y)\n",
        "\n",
        "# SPLIT\n",
        "x_train, y_train, x_test, y_test, x_val, y_val = splitDataIntoTrainValidationTest(x,y,0.50,0.40)\n",
        "\n",
        "model = keras.Sequential([\n",
        "    keras.layers.Dense(units=12, activation='tanh',input_shape=(1,)),\n",
        "    keras.layers.Dense(units=8, activation='tanh'),\n",
        "    keras.layers.Dense(units=4, activation='tanh'),\n",
        "    keras.layers.Dense(units=1, activation='relu')\n",
        "])\n",
        "model.summary()\n",
        "model.compile(optimizer='adam', \n",
        "              loss='MSE')\n",
        "losses = model.fit(x_train, y_train,epochs=20,batch_size=12)\n",
        "evaluation = model.evaluate(x_test, y_test)\n",
        "y_pred = model.predict(x_test)\n",
        "y_pred = np.array(y_pred)\n",
        "\n",
        "print(\"The following are the metrics:\\n\")\n",
        "returnMetrics(y_test,y_pred)\n",
        "plt.plot(x_test, y_test,'r*')\n",
        "plt.title('actual test data\\n')\n",
        "plt.xlabel(\"x_test\")\n",
        "plt.ylabel(\"y_test\")\n",
        "plt.show()\n",
        "\n",
        "plt.plot(x_test, y_pred,'b*')\n",
        "plt.title('predicted data\\n')\n",
        "plt.xlabel(\"x_test\")\n",
        "plt.ylabel(\"y_pred\")\n",
        "plt.show()\n"
      ],
      "metadata": {
        "colab": {
          "base_uri": "https://localhost:8080/",
          "height": 1000
        },
        "id": "IXRggYjDBWU2",
        "outputId": "1b0e494b-9b8e-4e48-ab67-7c52c9abb2b4"
      },
      "execution_count": null,
      "outputs": [
        {
          "output_type": "stream",
          "name": "stdout",
          "text": [
            "[-0.82359412  0.77985933  0.89766326 ... -0.03796793  0.30944365\n",
            " -0.45318177]\n",
            "[ 9.04255111 11.08338536 11.65711532 ... 10.00003511 10.07067114\n",
            "  9.84282979]\n",
            "Model: \"sequential_2\"\n",
            "_________________________________________________________________\n",
            " Layer (type)                Output Shape              Param #   \n",
            "=================================================================\n",
            " dense_6 (Dense)             (None, 12)                24        \n",
            "                                                                 \n",
            " dense_7 (Dense)             (None, 8)                 104       \n",
            "                                                                 \n",
            " dense_8 (Dense)             (None, 4)                 36        \n",
            "                                                                 \n",
            " dense_9 (Dense)             (None, 1)                 5         \n",
            "                                                                 \n",
            "=================================================================\n",
            "Total params: 169\n",
            "Trainable params: 169\n",
            "Non-trainable params: 0\n",
            "_________________________________________________________________\n",
            "Epoch 1/20\n",
            "750/750 [==============================] - 2s 2ms/step - loss: 41.3312\n",
            "Epoch 2/20\n",
            "750/750 [==============================] - 1s 2ms/step - loss: 8.6650\n",
            "Epoch 3/20\n",
            "750/750 [==============================] - 1s 2ms/step - loss: 1.7073\n",
            "Epoch 4/20\n",
            "750/750 [==============================] - 1s 2ms/step - loss: 0.6468\n",
            "Epoch 5/20\n",
            "750/750 [==============================] - 1s 2ms/step - loss: 0.5790\n",
            "Epoch 6/20\n",
            "750/750 [==============================] - 1s 2ms/step - loss: 0.3595\n",
            "Epoch 7/20\n",
            "750/750 [==============================] - 1s 2ms/step - loss: 0.2033\n",
            "Epoch 8/20\n",
            "750/750 [==============================] - 1s 2ms/step - loss: 0.1559\n",
            "Epoch 9/20\n",
            "750/750 [==============================] - 2s 2ms/step - loss: 0.1081\n",
            "Epoch 10/20\n",
            "750/750 [==============================] - 2s 2ms/step - loss: 0.0273\n",
            "Epoch 11/20\n",
            "750/750 [==============================] - 1s 2ms/step - loss: 0.0087\n",
            "Epoch 12/20\n",
            "750/750 [==============================] - 1s 2ms/step - loss: 0.0033\n",
            "Epoch 13/20\n",
            "750/750 [==============================] - 1s 2ms/step - loss: 0.0017\n",
            "Epoch 14/20\n",
            "750/750 [==============================] - 1s 2ms/step - loss: 0.0010\n",
            "Epoch 15/20\n",
            "750/750 [==============================] - 1s 2ms/step - loss: 6.8964e-04\n",
            "Epoch 16/20\n",
            "750/750 [==============================] - 1s 2ms/step - loss: 4.9542e-04\n",
            "Epoch 17/20\n",
            "750/750 [==============================] - 1s 2ms/step - loss: 4.0114e-04\n",
            "Epoch 18/20\n",
            "750/750 [==============================] - 1s 2ms/step - loss: 3.2889e-04\n",
            "Epoch 19/20\n",
            "750/750 [==============================] - 2s 2ms/step - loss: 3.0465e-04\n",
            "Epoch 20/20\n",
            "750/750 [==============================] - 1s 2ms/step - loss: 2.1567e-04\n",
            "469/469 [==============================] - 1s 1ms/step - loss: 1.9576e-04\n",
            "469/469 [==============================] - 1s 1ms/step\n",
            "The following are the metrics:\n",
            "\n",
            "The MAE is:  0.010677266313837695\n",
            "The MSE is:  0.00019576190005700275\n",
            "The RMSE is:  0.0139914938465127\n",
            "The R2 is: 0.9996667036607312\n"
          ]
        },
        {
          "output_type": "display_data",
          "data": {
            "text/plain": [
              "<Figure size 432x288 with 1 Axes>"
            ],
            "image/png": "[encoded data removed]"
          },
          "metadata": {
            "needs_background": "light"
          }
        },
        {
          "output_type": "display_data",
          "data": {
            "text/plain": [
              "<Figure size 432x288 with 1 Axes>"
            ],
            "image/png": "[encoded data removed]"
          },
          "metadata": {
            "needs_background": "light"
          }
        }
      ]
    },
    {
      "cell_type": "markdown",
      "source": [
        "# Case 4: shuffled and scaled. First, shuffle, then split, then scale"
      ],
      "metadata": {
        "id": "01Q-VSaIC2DV"
      }
    },
    {
      "cell_type": "code",
      "source": [
        "# GENERATE \n",
        "x = np.linspace(-1, 1, 30000)\n",
        "y = generateData(x)\n",
        "\n",
        "# SHUFFLE\n",
        "x,y = shuffleData(x,'yes')\n",
        "print(x)\n",
        "print(y)\n",
        "\n",
        "# SPLIT\n",
        "x_train, y_train, x_test, y_test, x_val, y_val = splitDataIntoTrainValidationTest(x,y,0.50,0.40)\n",
        "\n",
        "# SCALE\n",
        "x_train_scaled = scaleData(x_train)\n",
        "y_train_scaled = scaleData(y_train)\n",
        "x_test_scaled = scaleData(x_test)\n",
        "y_test_scaled = scaleData(y_test)\n",
        "\n",
        "model = keras.Sequential([\n",
        "    keras.layers.Dense(units=12, activation='relu',input_shape=(1,)),\n",
        "    keras.layers.Dense(units=8, activation='relu'),\n",
        "    keras.layers.Dense(units=4, activation='relu'),\n",
        "    keras.layers.Dense(units=1, activation='relu')\n",
        "])\n",
        "model.summary()\n",
        "model.compile(optimizer='adam', \n",
        "              loss='MSE')\n",
        "losses = model.fit(x_train_scaled, y_train_scaled,epochs=20,batch_size=12)\n",
        "evaluation = model.evaluate(x_test_scaled, y_test_scaled)\n",
        "y_pred = model.predict(x_test_scaled)\n",
        "y_pred = np.array(y_pred)\n",
        "\n",
        "print(\"The following are the metrics:\\n\")\n",
        "returnMetrics(y_test,y_pred)\n",
        "plt.plot(x_test_scaled, y_test_scaled,'r*')\n",
        "plt.title('actual test data\\n')\n",
        "plt.xlabel(\"x_test_scaled\")\n",
        "plt.ylabel(\"y_test_scaled\")\n",
        "plt.show()\n",
        "\n",
        "plt.plot(x_test_scaled, y_pred,'b*')\n",
        "plt.title('predicted data\\n')\n",
        "plt.xlabel(\"x_test_scaled\")\n",
        "plt.ylabel(\"y_pred\")\n",
        "plt.show()\n"
      ],
      "metadata": {
        "colab": {
          "base_uri": "https://localhost:8080/",
          "height": 1000
        },
        "id": "crTzMCwiC93R",
        "outputId": "3123aef7-c8aa-42bc-a819-01ef9c65bc3a"
      },
      "execution_count": null,
      "outputs": [
        {
          "output_type": "stream",
          "name": "stdout",
          "text": [
            "[ 0.78779293 -0.79479316 -0.71172372 ...  0.41064702 -0.79565986\n",
            " -0.40804693]\n",
            "[11.11693149  9.13884204  9.38092554 ... 10.161046    9.13604005\n",
            "  9.88631333]\n",
            "Model: \"sequential_14\"\n",
            "_________________________________________________________________\n",
            " Layer (type)                Output Shape              Param #   \n",
            "=================================================================\n",
            " dense_52 (Dense)            (None, 12)                24        \n",
            "                                                                 \n",
            " dense_53 (Dense)            (None, 8)                 104       \n",
            "                                                                 \n",
            " dense_54 (Dense)            (None, 4)                 36        \n",
            "                                                                 \n",
            " dense_55 (Dense)            (None, 1)                 5         \n",
            "                                                                 \n",
            "=================================================================\n",
            "Total params: 169\n",
            "Trainable params: 169\n",
            "Non-trainable params: 0\n",
            "_________________________________________________________________\n",
            "Epoch 1/20\n",
            "750/750 [==============================] - 2s 2ms/step - loss: 0.0092\n",
            "Epoch 2/20\n",
            "750/750 [==============================] - 1s 2ms/step - loss: 0.0060\n",
            "Epoch 3/20\n",
            "750/750 [==============================] - 1s 2ms/step - loss: 0.0054\n",
            "Epoch 4/20\n",
            "750/750 [==============================] - 2s 2ms/step - loss: 0.0035\n",
            "Epoch 5/20\n",
            "750/750 [==============================] - 2s 2ms/step - loss: 7.3521e-04\n",
            "Epoch 6/20\n",
            "750/750 [==============================] - 1s 2ms/step - loss: 1.6974e-04\n",
            "Epoch 7/20\n",
            "750/750 [==============================] - 1s 2ms/step - loss: 9.8724e-05\n",
            "Epoch 8/20\n",
            "750/750 [==============================] - 1s 2ms/step - loss: 7.9851e-05\n",
            "Epoch 9/20\n",
            "750/750 [==============================] - 1s 2ms/step - loss: 7.0679e-05\n",
            "Epoch 10/20\n",
            "750/750 [==============================] - 1s 2ms/step - loss: 5.9074e-05\n",
            "Epoch 11/20\n",
            "750/750 [==============================] - 1s 2ms/step - loss: 5.6268e-05\n",
            "Epoch 12/20\n",
            "750/750 [==============================] - 1s 2ms/step - loss: 5.1146e-05\n",
            "Epoch 13/20\n",
            "750/750 [==============================] - 1s 2ms/step - loss: 4.7699e-05\n",
            "Epoch 14/20\n",
            "750/750 [==============================] - 2s 2ms/step - loss: 4.1091e-05\n",
            "Epoch 15/20\n",
            "750/750 [==============================] - 1s 2ms/step - loss: 3.3668e-05\n",
            "Epoch 16/20\n",
            "750/750 [==============================] - 1s 2ms/step - loss: 3.2517e-05\n",
            "Epoch 17/20\n",
            "750/750 [==============================] - 1s 2ms/step - loss: 2.9926e-05\n",
            "Epoch 18/20\n",
            "750/750 [==============================] - 1s 2ms/step - loss: 2.9254e-05\n",
            "Epoch 19/20\n",
            "750/750 [==============================] - 1s 2ms/step - loss: 2.4389e-05\n",
            "Epoch 20/20\n",
            "750/750 [==============================] - 1s 2ms/step - loss: 2.5087e-05\n",
            "469/469 [==============================] - 1s 1ms/step - loss: 1.5781e-05\n",
            "469/469 [==============================] - 1s 1ms/step\n",
            "The following are the metrics:\n",
            "\n",
            "The MAE is:  9.632077150340065\n",
            "The MSE is:  93.10521489602631\n",
            "The RMSE is:  9.649104357194314\n",
            "The R2 is: -158.32778573717667\n"
          ]
        },
        {
          "output_type": "display_data",
          "data": {
            "text/plain": [
              "<Figure size 432x288 with 1 Axes>"
            ],
            "image/png": "[encoded data removed]"
          },
          "metadata": {
            "needs_background": "light"
          }
        },
        {
          "output_type": "display_data",
          "data": {
            "text/plain": [
              "<Figure size 432x288 with 1 Axes>"
            ],
            "image/png": "[encoded data removed]"
          },
          "metadata": {
            "needs_background": "light"
          }
        }
      ]
    },
    {
      "cell_type": "markdown",
      "source": [
        "#Case 5: shuffled and scaled. First shuffle then split then scale."
      ],
      "metadata": {
        "id": "BEY6B7XwELSN"
      }
    },
    {
      "cell_type": "code",
      "source": [
        "# GENERATE \n",
        "x = np.linspace(-1, 1, 30000)\n",
        "y = generateData(x)\n",
        "\n",
        "# SHUFFLE\n",
        "x,y = shuffleData(x,'yes')\n",
        "print(x)\n",
        "print(y)\n",
        "\n",
        "# SPLIT\n",
        "x_train, y_train, x_test, y_test, x_val, y_val = splitDataIntoTrainValidationTest(x,y,0.50,0.40)\n",
        "\n",
        "# SCALE\n",
        "x_train_scaled = scaleData(x_train)\n",
        "y_train_scaled = scaleData(y_train)\n",
        "x_test_scaled = scaleData(x_test)\n",
        "y_test_scaled = scaleData(y_test)\n",
        "\n",
        "model = keras.Sequential([\n",
        "    keras.layers.Dense(units=12, activation='tanh',input_shape=(1,)),\n",
        "    keras.layers.Dense(units=8, activation='tanh'),\n",
        "    keras.layers.Dense(units=4, activation='tanh'),\n",
        "    keras.layers.Dense(units=1, activation='tanh')\n",
        "])\n",
        "model.summary()\n",
        "model.compile(optimizer='adam', \n",
        "              loss='MSE')\n",
        "losses = model.fit(x_train_scaled, y_train_scaled,epochs=20,batch_size=12)\n",
        "evaluation = model.evaluate(x_test_scaled, y_test_scaled)\n",
        "y_pred = model.predict(x_test_scaled)\n",
        "y_pred = np.array(y_pred)\n",
        "\n",
        "print(\"The following are the metrics:\\n\")\n",
        "returnMetrics(y_test_scaled,y_pred)\n",
        "plt.plot(x_test_scaled, y_test_scaled,'r*')\n",
        "plt.title('actual test data\\n')\n",
        "plt.xlabel(\"x_test_scaled\")\n",
        "plt.ylabel(\"y_test_scaled\")\n",
        "plt.show()\n",
        "\n",
        "plt.plot(x_test_scaled, y_pred,'b*')\n",
        "plt.title('predicted data\\n')\n",
        "plt.xlabel(\"x_test_scaled\")\n",
        "plt.ylabel(\"y_pred\")\n",
        "plt.show()\n"
      ],
      "metadata": {
        "colab": {
          "base_uri": "https://localhost:8080/",
          "height": 1000
        },
        "id": "xVOBubNYEPG2",
        "outputId": "58cdc19c-ca67-4716-a9c1-d7f56ed9bfa6"
      },
      "execution_count": null,
      "outputs": [
        {
          "output_type": "stream",
          "name": "stdout",
          "text": [
            "[-0.5579186  -0.08836961  0.56518551 ...  0.93073102 -0.25357512\n",
            "  0.97613254]\n",
            "[ 9.70317534  9.99941293 10.41343084 ... 11.84921795  9.97464701\n",
            " 12.13704825]\n",
            "Model: \"sequential_4\"\n",
            "_________________________________________________________________\n",
            " Layer (type)                Output Shape              Param #   \n",
            "=================================================================\n",
            " dense_14 (Dense)            (None, 12)                24        \n",
            "                                                                 \n",
            " dense_15 (Dense)            (None, 8)                 104       \n",
            "                                                                 \n",
            " dense_16 (Dense)            (None, 4)                 36        \n",
            "                                                                 \n",
            " dense_17 (Dense)            (None, 1)                 5         \n",
            "                                                                 \n",
            "=================================================================\n",
            "Total params: 169\n",
            "Trainable params: 169\n",
            "Non-trainable params: 0\n",
            "_________________________________________________________________\n",
            "Epoch 1/20\n",
            "750/750 [==============================] - 2s 2ms/step - loss: 0.0208\n",
            "Epoch 2/20\n",
            "750/750 [==============================] - 2s 2ms/step - loss: 0.0077\n",
            "Epoch 3/20\n",
            "750/750 [==============================] - 2s 2ms/step - loss: 0.0075\n",
            "Epoch 4/20\n",
            "750/750 [==============================] - 1s 2ms/step - loss: 0.0073\n",
            "Epoch 5/20\n",
            "750/750 [==============================] - 1s 2ms/step - loss: 0.0070\n",
            "Epoch 6/20\n",
            "750/750 [==============================] - 1s 2ms/step - loss: 0.0063\n",
            "Epoch 7/20\n",
            "750/750 [==============================] - 2s 2ms/step - loss: 0.0032\n",
            "Epoch 8/20\n",
            "750/750 [==============================] - 1s 2ms/step - loss: 0.0015\n",
            "Epoch 9/20\n",
            "750/750 [==============================] - 1s 2ms/step - loss: 0.0014\n",
            "Epoch 10/20\n",
            "750/750 [==============================] - 1s 2ms/step - loss: 0.0013\n",
            "Epoch 11/20\n",
            "750/750 [==============================] - 1s 2ms/step - loss: 0.0012\n",
            "Epoch 12/20\n",
            "750/750 [==============================] - 1s 2ms/step - loss: 0.0010\n",
            "Epoch 13/20\n",
            "750/750 [==============================] - 1s 2ms/step - loss: 8.6113e-04\n",
            "Epoch 14/20\n",
            "750/750 [==============================] - 1s 2ms/step - loss: 7.7491e-04\n",
            "Epoch 15/20\n",
            "750/750 [==============================] - 1s 2ms/step - loss: 6.7996e-04\n",
            "Epoch 16/20\n",
            "750/750 [==============================] - 2s 2ms/step - loss: 6.4378e-04\n",
            "Epoch 17/20\n",
            "750/750 [==============================] - 2s 2ms/step - loss: 5.8000e-04\n",
            "Epoch 18/20\n",
            "750/750 [==============================] - 1s 2ms/step - loss: 5.4258e-04\n",
            "Epoch 19/20\n",
            "750/750 [==============================] - 1s 2ms/step - loss: 5.0079e-04\n",
            "Epoch 20/20\n",
            "750/750 [==============================] - 1s 2ms/step - loss: 4.6295e-04\n",
            "469/469 [==============================] - 1s 1ms/step - loss: 4.6698e-04\n",
            "469/469 [==============================] - 1s 1ms/step\n",
            "The following are the metrics:\n",
            "\n",
            "The MAE is:  0.016092070488051703\n",
            "The MSE is:  0.0004669795573110732\n",
            "The RMSE is:  0.021609709792384375\n",
            "The R2 is: 0.9867732402358069\n"
          ]
        },
        {
          "output_type": "display_data",
          "data": {
            "text/plain": [
              "<Figure size 432x288 with 1 Axes>"
            ],
            "image/png": "[encoded data removed]"
          },
          "metadata": {
            "needs_background": "light"
          }
        },
        {
          "output_type": "display_data",
          "data": {
            "text/plain": [
              "<Figure size 432x288 with 1 Axes>"
            ],
            "image/png": "[encoded data removed]"
          },
          "metadata": {
            "needs_background": "light"
          }
        }
      ]
    },
    {
      "cell_type": "markdown",
      "source": [
        "# Next 5 cases are implemented with unshuffled data"
      ],
      "metadata": {
        "id": "cVRAstB2E0oY"
      }
    },
    {
      "cell_type": "markdown",
      "source": [
        "#Case 1: unshuffled and unscaled data"
      ],
      "metadata": {
        "id": "ymaYFYjJE5fa"
      }
    },
    {
      "cell_type": "code",
      "source": [
        "# GENERATE \n",
        "x = np.linspace(-1, 1, 30000)\n",
        "y = generateData(x)\n",
        "\n",
        "# SHUFFLE\n",
        "x,y = shuffleData(x,'no')\n",
        "print(x)\n",
        "print(y)\n",
        "\n",
        "# SPLIT\n",
        "x_train, y_train, x_test, y_test, x_val, y_val = splitDataIntoTrainValidationTest(x,y,0.50,0.40)\n",
        "\n",
        "model = keras.Sequential([\n",
        "    keras.layers.Dense(units=12, activation='relu',input_shape=(1,)),\n",
        "    keras.layers.Dense(units=8, activation='relu'),\n",
        "    keras.layers.Dense(units=4, activation='relu'),\n",
        "    keras.layers.Dense(units=1, activation='relu')\n",
        "])\n",
        "model.summary()\n",
        "model.compile(optimizer='adam', \n",
        "              loss='MSE')\n",
        "losses = model.fit(x_train, y_train,epochs=20,batch_size=12)\n",
        "evaluation = model.evaluate(x_test, y_test)\n",
        "y_pred = model.predict(x_test)\n",
        "y_pred = np.array(y_pred)\n",
        "\n",
        "print(\"The following are the metrics:\\n\")\n",
        "returnMetrics(y_test,y_pred)\n",
        "\n",
        "plt.plot(x_test, y_test,'r*')\n",
        "plt.title('actual test data\\n')\n",
        "plt.xlabel(\"x_test\")\n",
        "plt.ylabel(\"y_test\")\n",
        "plt.show()\n",
        "\n",
        "plt.plot(x_test, y_pred,'b*')\n",
        "plt.title('predicted data\\n')\n",
        "plt.xlabel(\"x_test\")\n",
        "plt.ylabel(\"y_pred\")\n",
        "plt.show()\n"
      ],
      "metadata": {
        "colab": {
          "base_uri": "https://localhost:8080/",
          "height": 1000
        },
        "id": "3Kz-WEKAFWXN",
        "outputId": "a458f16f-5536-499d-bbb3-229af38297aa"
      },
      "execution_count": null,
      "outputs": [
        {
          "output_type": "stream",
          "name": "stdout",
          "text": [
            "[-1.         -0.99993333 -0.99986666 ...  0.99986666  0.99993333\n",
            "  1.        ]\n",
            "[ 8.3         8.30033332  8.30066661 ... 12.29906677 12.29953335\n",
            " 12.3       ]\n",
            "Model: \"sequential_11\"\n",
            "_________________________________________________________________\n",
            " Layer (type)                Output Shape              Param #   \n",
            "=================================================================\n",
            " dense_40 (Dense)            (None, 12)                24        \n",
            "                                                                 \n",
            " dense_41 (Dense)            (None, 8)                 104       \n",
            "                                                                 \n",
            " dense_42 (Dense)            (None, 4)                 36        \n",
            "                                                                 \n",
            " dense_43 (Dense)            (None, 1)                 5         \n",
            "                                                                 \n",
            "=================================================================\n",
            "Total params: 169\n",
            "Trainable params: 169\n",
            "Non-trainable params: 0\n",
            "_________________________________________________________________\n",
            "Epoch 1/20\n",
            "750/750 [==============================] - 2s 2ms/step - loss: 19.0764\n",
            "Epoch 2/20\n",
            "750/750 [==============================] - 1s 2ms/step - loss: 1.5953\n",
            "Epoch 3/20\n",
            "750/750 [==============================] - 1s 2ms/step - loss: 0.4486\n",
            "Epoch 4/20\n",
            "750/750 [==============================] - 2s 2ms/step - loss: 0.0143\n",
            "Epoch 5/20\n",
            "750/750 [==============================] - 2s 2ms/step - loss: 0.0030\n",
            "Epoch 6/20\n",
            "750/750 [==============================] - 1s 2ms/step - loss: 0.0014\n",
            "Epoch 7/20\n",
            "750/750 [==============================] - 1s 2ms/step - loss: 0.0010\n",
            "Epoch 8/20\n",
            "750/750 [==============================] - 1s 2ms/step - loss: 8.6503e-04\n",
            "Epoch 9/20\n",
            "750/750 [==============================] - 1s 2ms/step - loss: 7.2573e-04\n",
            "Epoch 10/20\n",
            "750/750 [==============================] - 1s 2ms/step - loss: 6.4906e-04\n",
            "Epoch 11/20\n",
            "750/750 [==============================] - 1s 2ms/step - loss: 6.4516e-04\n",
            "Epoch 12/20\n",
            "750/750 [==============================] - 1s 2ms/step - loss: 6.2187e-04\n",
            "Epoch 13/20\n",
            "750/750 [==============================] - 1s 2ms/step - loss: 6.4373e-04\n",
            "Epoch 14/20\n",
            "750/750 [==============================] - 2s 2ms/step - loss: 6.4599e-04\n",
            "Epoch 15/20\n",
            "750/750 [==============================] - 1s 2ms/step - loss: 6.2945e-04\n",
            "Epoch 16/20\n",
            "750/750 [==============================] - 1s 2ms/step - loss: 6.8228e-04\n",
            "Epoch 17/20\n",
            "750/750 [==============================] - 1s 2ms/step - loss: 6.2280e-04\n",
            "Epoch 18/20\n",
            "750/750 [==============================] - 1s 2ms/step - loss: 6.4368e-04\n",
            "Epoch 19/20\n",
            "750/750 [==============================] - 1s 2ms/step - loss: 6.1611e-04\n",
            "Epoch 20/20\n",
            "750/750 [==============================] - 1s 2ms/step - loss: 6.5598e-04\n",
            "469/469 [==============================] - 1s 1ms/step - loss: 17.6730\n",
            "469/469 [==============================] - 1s 1ms/step\n",
            "The following are the metrics:\n",
            "\n",
            "The MAE is:  3.8827626539162097\n",
            "The MSE is:  17.6729843866138\n",
            "The RMSE is:  4.203924878802403\n",
            "The R2 is: -40.91604067289189\n"
          ]
        },
        {
          "output_type": "display_data",
          "data": {
            "text/plain": [
              "<Figure size 432x288 with 1 Axes>"
            ],
            "image/png": "[encoded data removed]"
          },
          "metadata": {
            "needs_background": "light"
          }
        },
        {
          "output_type": "display_data",
          "data": {
            "text/plain": [
              "<Figure size 432x288 with 1 Axes>"
            ],
            "image/png": "[encoded data removed]"
          },
          "metadata": {
            "needs_background": "light"
          }
        }
      ]
    },
    {
      "cell_type": "markdown",
      "source": [
        "# Case 2: unshuffled and unscaled"
      ],
      "metadata": {
        "id": "p3P2FTabFxBN"
      }
    },
    {
      "cell_type": "code",
      "source": [
        "# GENERATE \n",
        "x = np.linspace(-1, 1, 30000)\n",
        "y = generateData(x)\n",
        "\n",
        "# SHUFFLE\n",
        "x,y = shuffleData(x,'no')\n",
        "print(x)\n",
        "print(y)\n",
        "\n",
        "# SPLIT\n",
        "x_train, y_train, x_test, y_test, x_val, y_val = splitDataIntoTrainValidationTest(x,y,0.50,0.40)\n",
        "\n",
        "model = keras.Sequential([\n",
        "    keras.layers.Dense(units=24, activation='relu',input_shape=(1,)),\n",
        "    keras.layers.Dense(units=1, activation='relu')\n",
        "])\n",
        "model.summary()\n",
        "model.compile(optimizer='adam', \n",
        "              loss='MSE')\n",
        "losses = model.fit(x_train, y_train,epochs=20,batch_size=12)\n",
        "evaluation = model.evaluate(x_test, y_test)\n",
        "y_pred = model.predict(x_test)\n",
        "y_pred = np.array(y_pred)\n",
        "\n",
        "print(\"\\nThe following are the metrics:\\n\")\n",
        "returnMetrics(y_test,y_pred)\n",
        "plt.plot(x_test, y_test,'r*')\n",
        "plt.title('actual test data\\n')\n",
        "plt.xlabel(\"x_test\")\n",
        "plt.ylabel(\"y_test\")\n",
        "plt.show()\n",
        "\n",
        "plt.plot(x_test, y_pred,'b*')\n",
        "plt.title('predicted data\\n')\n",
        "plt.xlabel(\"x_test\")\n",
        "plt.ylabel(\"y_pred\")\n",
        "plt.show()\n"
      ],
      "metadata": {
        "colab": {
          "base_uri": "https://localhost:8080/",
          "height": 1000
        },
        "id": "eQIeWdkBF0OF",
        "outputId": "9505e8c0-ca80-40f1-cf0d-633e92ad3a58"
      },
      "execution_count": null,
      "outputs": [
        {
          "output_type": "stream",
          "name": "stdout",
          "text": [
            "[-1.         -0.99993333 -0.99986666 ...  0.99986666  0.99993333\n",
            "  1.        ]\n",
            "[ 8.3         8.30033332  8.30066661 ... 12.29906677 12.29953335\n",
            " 12.3       ]\n",
            "Model: \"sequential_6\"\n",
            "_________________________________________________________________\n",
            " Layer (type)                Output Shape              Param #   \n",
            "=================================================================\n",
            " dense_22 (Dense)            (None, 24)                48        \n",
            "                                                                 \n",
            " dense_23 (Dense)            (None, 1)                 25        \n",
            "                                                                 \n",
            "=================================================================\n",
            "Total params: 73\n",
            "Trainable params: 73\n",
            "Non-trainable params: 0\n",
            "_________________________________________________________________\n",
            "Epoch 1/20\n",
            "750/750 [==============================] - 2s 1ms/step - loss: 26.4523\n",
            "Epoch 2/20\n",
            "750/750 [==============================] - 1s 2ms/step - loss: 2.1758\n",
            "Epoch 3/20\n",
            "750/750 [==============================] - 1s 1ms/step - loss: 1.6805\n",
            "Epoch 4/20\n",
            "750/750 [==============================] - 1s 1ms/step - loss: 1.0525\n",
            "Epoch 5/20\n",
            "750/750 [==============================] - 1s 2ms/step - loss: 0.4271\n",
            "Epoch 6/20\n",
            "750/750 [==============================] - 2s 2ms/step - loss: 0.0898\n",
            "Epoch 7/20\n",
            "750/750 [==============================] - 1s 2ms/step - loss: 0.0138\n",
            "Epoch 8/20\n",
            "750/750 [==============================] - 1s 1ms/step - loss: 0.0071\n",
            "Epoch 9/20\n",
            "750/750 [==============================] - 1s 1ms/step - loss: 0.0051\n",
            "Epoch 10/20\n",
            "750/750 [==============================] - 1s 1ms/step - loss: 0.0043\n",
            "Epoch 11/20\n",
            "750/750 [==============================] - 1s 1ms/step - loss: 0.0042\n",
            "Epoch 12/20\n",
            "750/750 [==============================] - 1s 1ms/step - loss: 0.0041\n",
            "Epoch 13/20\n",
            "750/750 [==============================] - 1s 1ms/step - loss: 0.0040\n",
            "Epoch 14/20\n",
            "750/750 [==============================] - 1s 2ms/step - loss: 0.0039\n",
            "Epoch 15/20\n",
            "750/750 [==============================] - 1s 1ms/step - loss: 0.0037\n",
            "Epoch 16/20\n",
            "750/750 [==============================] - 1s 2ms/step - loss: 0.0034\n",
            "Epoch 17/20\n",
            "750/750 [==============================] - 2s 2ms/step - loss: 0.0031\n",
            "Epoch 18/20\n",
            "750/750 [==============================] - 1s 1ms/step - loss: 0.0027\n",
            "Epoch 19/20\n",
            "750/750 [==============================] - 1s 1ms/step - loss: 0.0022\n",
            "Epoch 20/20\n",
            "750/750 [==============================] - 1s 1ms/step - loss: 0.0017\n",
            "469/469 [==============================] - 1s 1ms/step - loss: 0.2524\n",
            "469/469 [==============================] - 1s 1ms/step\n",
            "\n",
            "The following are the metrics:\n",
            "\n",
            "The MAE is:  0.46840941285540055\n",
            "The MSE is:  0.2524317859129214\n",
            "The RMSE is:  0.5024259009176592\n",
            "The R2 is: 0.40129291273118717\n"
          ]
        },
        {
          "output_type": "display_data",
          "data": {
            "text/plain": [
              "<Figure size 432x288 with 1 Axes>"
            ],
            "image/png": "[encoded data removed]"
          },
          "metadata": {
            "needs_background": "light"
          }
        },
        {
          "output_type": "display_data",
          "data": {
            "text/plain": [
              "<Figure size 432x288 with 1 Axes>"
            ],
            "image/png": "[encoded data removed]"
          },
          "metadata": {
            "needs_background": "light"
          }
        }
      ]
    },
    {
      "cell_type": "markdown",
      "source": [
        "#Case 3: unshuffled and unscaled"
      ],
      "metadata": {
        "id": "ct5iJFgPGW0W"
      }
    },
    {
      "cell_type": "code",
      "source": [
        "# GENERATE \n",
        "x = np.linspace(-1, 1, 30000)\n",
        "y = generateData(x)\n",
        "\n",
        "# SHUFFLE\n",
        "x,y = shuffleData(x,'no')\n",
        "print(x)\n",
        "print(y)\n",
        "\n",
        "# SPLIT\n",
        "x_train, y_train, x_test, y_test, x_val, y_val = splitDataIntoTrainValidationTest(x,y,0.50,0.40)\n",
        "\n",
        "model = keras.Sequential([\n",
        "    keras.layers.Dense(units=12, activation='tanh',input_shape=(1,)),\n",
        "    keras.layers.Dense(units=8, activation='tanh'),\n",
        "    keras.layers.Dense(units=4, activation='tanh'),\n",
        "    keras.layers.Dense(units=1, activation='relu')\n",
        "])\n",
        "model.summary()\n",
        "model.compile(optimizer='adam', \n",
        "              loss='MSE')\n",
        "losses = model.fit(x_train, y_train,epochs=20,batch_size=12)\n",
        "\n",
        "evaluation = model.evaluate(x_test, y_test)\n",
        "y_pred = model.predict(x_test)\n",
        "y_pred = np.array(y_pred)\n",
        "\n",
        "print(\"The following are the metrics:\\n\")\n",
        "returnMetrics(y_test,y_pred)\n",
        "plt.plot(x_test, y_test,'r*')\n",
        "plt.title('actual test data\\n')\n",
        "plt.xlabel(\"x_test\")\n",
        "plt.ylabel(\"y_test\")\n",
        "plt.show()\n",
        "\n",
        "plt.plot(x_test, y_pred,'b*')\n",
        "plt.title('predicted data\\n')\n",
        "plt.xlabel(\"x_test\")\n",
        "plt.ylabel(\"y_pred\")\n",
        "plt.show()\n"
      ],
      "metadata": {
        "colab": {
          "base_uri": "https://localhost:8080/",
          "height": 1000
        },
        "id": "uqn79XBdGZ3g",
        "outputId": "66409ddc-9190-4ef3-ed8e-9f68e63e5428"
      },
      "execution_count": null,
      "outputs": [
        {
          "output_type": "stream",
          "name": "stdout",
          "text": [
            "[-1.         -0.99993333 -0.99986666 ...  0.99986666  0.99993333\n",
            "  1.        ]\n",
            "[ 8.3         8.30033332  8.30066661 ... 12.29906677 12.29953335\n",
            " 12.3       ]\n",
            "Model: \"sequential_7\"\n",
            "_________________________________________________________________\n",
            " Layer (type)                Output Shape              Param #   \n",
            "=================================================================\n",
            " dense_24 (Dense)            (None, 12)                24        \n",
            "                                                                 \n",
            " dense_25 (Dense)            (None, 8)                 104       \n",
            "                                                                 \n",
            " dense_26 (Dense)            (None, 4)                 36        \n",
            "                                                                 \n",
            " dense_27 (Dense)            (None, 1)                 5         \n",
            "                                                                 \n",
            "=================================================================\n",
            "Total params: 169\n",
            "Trainable params: 169\n",
            "Non-trainable params: 0\n",
            "_________________________________________________________________\n",
            "Epoch 1/20\n",
            "750/750 [==============================] - 2s 2ms/step - loss: 86.8123\n",
            "Epoch 2/20\n",
            "750/750 [==============================] - 1s 2ms/step - loss: 86.8123\n",
            "Epoch 3/20\n",
            "750/750 [==============================] - 1s 2ms/step - loss: 86.8123\n",
            "Epoch 4/20\n",
            "750/750 [==============================] - 2s 2ms/step - loss: 86.8123\n",
            "Epoch 5/20\n",
            "750/750 [==============================] - 1s 2ms/step - loss: 86.8122\n",
            "Epoch 6/20\n",
            "750/750 [==============================] - 1s 2ms/step - loss: 86.8122\n",
            "Epoch 7/20\n",
            "750/750 [==============================] - 1s 2ms/step - loss: 86.8122\n",
            "Epoch 8/20\n",
            "750/750 [==============================] - 1s 2ms/step - loss: 86.8122\n",
            "Epoch 9/20\n",
            "750/750 [==============================] - 1s 2ms/step - loss: 86.8123\n",
            "Epoch 10/20\n",
            "750/750 [==============================] - 1s 2ms/step - loss: 86.8123\n",
            "Epoch 11/20\n",
            "750/750 [==============================] - 1s 2ms/step - loss: 86.8122\n",
            "Epoch 12/20\n",
            "750/750 [==============================] - 1s 2ms/step - loss: 86.8123\n",
            "Epoch 13/20\n",
            "750/750 [==============================] - 1s 2ms/step - loss: 86.8123\n",
            "Epoch 14/20\n",
            "750/750 [==============================] - 2s 2ms/step - loss: 86.8123\n",
            "Epoch 15/20\n",
            "750/750 [==============================] - 1s 2ms/step - loss: 86.8123\n",
            "Epoch 16/20\n",
            "750/750 [==============================] - 1s 2ms/step - loss: 86.8122\n",
            "Epoch 17/20\n",
            "750/750 [==============================] - 1s 2ms/step - loss: 86.8122\n",
            "Epoch 18/20\n",
            "750/750 [==============================] - 1s 2ms/step - loss: 86.8122\n",
            "Epoch 19/20\n",
            "750/750 [==============================] - 1s 2ms/step - loss: 86.8123\n",
            "Epoch 20/20\n",
            "750/750 [==============================] - 1s 2ms/step - loss: 86.8123\n",
            "469/469 [==============================] - 1s 2ms/step - loss: 106.7479\n",
            "469/469 [==============================] - 1s 2ms/step\n",
            "The following are the metrics:\n",
            "\n",
            "The MAE is:  10.316785214171901\n",
            "The MSE is:  106.7478959866202\n",
            "The RMSE is:  10.331887339040248\n",
            "The R2 is: -252.18016765238167\n"
          ]
        },
        {
          "output_type": "display_data",
          "data": {
            "text/plain": [
              "<Figure size 432x288 with 1 Axes>"
            ],
            "image/png": "[encoded data removed]"
          },
          "metadata": {
            "needs_background": "light"
          }
        },
        {
          "output_type": "display_data",
          "data": {
            "text/plain": [
              "<Figure size 432x288 with 1 Axes>"
            ],
            "image/png": "[encoded data removed]"
          },
          "metadata": {
            "needs_background": "light"
          }
        }
      ]
    },
    {
      "cell_type": "markdown",
      "source": [
        "# Case 4: unshuffled then split then scale"
      ],
      "metadata": {
        "id": "X60hwBDiGwL_"
      }
    },
    {
      "cell_type": "code",
      "source": [
        "# GENERATE \n",
        "x = np.linspace(-1, 1, 30000)\n",
        "y = generateData(x)\n",
        "\n",
        "# SHUFFLE\n",
        "x,y = shuffleData(x,'no')\n",
        "\n",
        "# SPLIT\n",
        "x_train, y_train, x_test, y_test, x_val, y_val = splitDataIntoTrainValidationTest(x,y,0.50,0.40)\n",
        "\n",
        "# SCALE\n",
        "x_train_scaled = scaleData(x_train)\n",
        "x_test_scaled = scaleData(x_test)\n",
        "y_test_scaled = scaleData(y_test)\n",
        "y_train_scaled = scaleData(y_train)\n",
        "\n",
        "model = keras.Sequential([\n",
        "    keras.layers.Dense(units=12, activation='relu',input_shape=(1,)),\n",
        "    keras.layers.Dense(units=8, activation='relu'),\n",
        "    keras.layers.Dense(units=4, activation='relu'),\n",
        "    keras.layers.Dense(units=1, activation='relu')\n",
        "])\n",
        "model.summary()\n",
        "model.compile(optimizer='adam', \n",
        "              loss='MSE')\n",
        "losses = model.fit(x_train_scaled, y_train_scaled,epochs=20,batch_size=12)\n",
        "evaluation = model.evaluate(x_test_scaled, y_test_scaled)\n",
        "y_pred = model.predict(x_test_scaled)\n",
        "y_pred = np.array(y_pred)\n",
        "\n",
        "print(\"The following are the metrics:\\n\")\n",
        "returnMetrics(y_test_scaled,y_pred)\n",
        "plt.plot(x_test_scaled, y_test_scaled,'r*')\n",
        "plt.title('actual test data\\n')\n",
        "plt.xlabel(\"x_test_scaled\")\n",
        "plt.ylabel(\"y_test_scaled\")\n",
        "plt.show()\n",
        "\n",
        "plt.plot(x_test_scaled, y_pred,'b*')\n",
        "plt.title('predicted data\\n')\n",
        "plt.xlabel(\"x_test_scaled\")\n",
        "plt.ylabel(\"y_pred\")\n",
        "plt.show()\n"
      ],
      "metadata": {
        "colab": {
          "base_uri": "https://localhost:8080/",
          "height": 1000
        },
        "id": "ry3umDCIG0YC",
        "outputId": "3db21416-249f-4214-bee7-4bf10d0f815e"
      },
      "execution_count": null,
      "outputs": [
        {
          "output_type": "stream",
          "name": "stdout",
          "text": [
            "Model: \"sequential_8\"\n",
            "_________________________________________________________________\n",
            " Layer (type)                Output Shape              Param #   \n",
            "=================================================================\n",
            " dense_28 (Dense)            (None, 12)                24        \n",
            "                                                                 \n",
            " dense_29 (Dense)            (None, 8)                 104       \n",
            "                                                                 \n",
            " dense_30 (Dense)            (None, 4)                 36        \n",
            "                                                                 \n",
            " dense_31 (Dense)            (None, 1)                 5         \n",
            "                                                                 \n",
            "=================================================================\n",
            "Total params: 169\n",
            "Trainable params: 169\n",
            "Non-trainable params: 0\n",
            "_________________________________________________________________\n",
            "Epoch 1/20\n",
            "750/750 [==============================] - 2s 2ms/step - loss: 0.0185\n",
            "Epoch 2/20\n",
            "750/750 [==============================] - 1s 2ms/step - loss: 2.2836e-04\n",
            "Epoch 3/20\n",
            "750/750 [==============================] - 1s 2ms/step - loss: 1.5372e-04\n",
            "Epoch 4/20\n",
            "750/750 [==============================] - 1s 2ms/step - loss: 1.0215e-04\n",
            "Epoch 5/20\n",
            "750/750 [==============================] - 1s 2ms/step - loss: 7.0123e-05\n",
            "Epoch 6/20\n",
            "750/750 [==============================] - 1s 2ms/step - loss: 5.3634e-05\n",
            "Epoch 7/20\n",
            "750/750 [==============================] - 1s 2ms/step - loss: 4.7096e-05\n",
            "Epoch 8/20\n",
            "750/750 [==============================] - 2s 2ms/step - loss: 3.9409e-05\n",
            "Epoch 9/20\n",
            "750/750 [==============================] - 1s 2ms/step - loss: 2.8607e-05\n",
            "Epoch 10/20\n",
            "750/750 [==============================] - 1s 2ms/step - loss: 1.8736e-05\n",
            "Epoch 11/20\n",
            "750/750 [==============================] - 1s 2ms/step - loss: 1.3940e-05\n",
            "Epoch 12/20\n",
            "750/750 [==============================] - 1s 2ms/step - loss: 1.0360e-05\n",
            "Epoch 13/20\n",
            "750/750 [==============================] - 1s 2ms/step - loss: 8.6922e-06\n",
            "Epoch 14/20\n",
            "750/750 [==============================] - 1s 2ms/step - loss: 7.9735e-06\n",
            "Epoch 15/20\n",
            "750/750 [==============================] - 1s 2ms/step - loss: 7.3391e-06\n",
            "Epoch 16/20\n",
            "750/750 [==============================] - 1s 2ms/step - loss: 7.3984e-06\n",
            "Epoch 17/20\n",
            "750/750 [==============================] - 2s 2ms/step - loss: 6.9709e-06\n",
            "Epoch 18/20\n",
            "750/750 [==============================] - 2s 2ms/step - loss: 7.3152e-06\n",
            "Epoch 19/20\n",
            "750/750 [==============================] - 1s 2ms/step - loss: 7.3613e-06\n",
            "Epoch 20/20\n",
            "750/750 [==============================] - 1s 2ms/step - loss: 6.3112e-06\n",
            "469/469 [==============================] - 1s 1ms/step - loss: 0.1748\n",
            "469/469 [==============================] - 1s 1ms/step\n",
            "The following are the metrics:\n",
            "\n",
            "The MAE is:  0.3806544217505235\n",
            "The MSE is:  0.17475722491080664\n",
            "The RMSE is:  0.4180397408271212\n",
            "The R2 is: -1.1926088915984074\n"
          ]
        },
        {
          "output_type": "display_data",
          "data": {
            "text/plain": [
              "<Figure size 432x288 with 1 Axes>"
            ],
            "image/png": "[encoded data removed]"
          },
          "metadata": {
            "needs_background": "light"
          }
        },
        {
          "output_type": "display_data",
          "data": {
            "text/plain": [
              "<Figure size 432x288 with 1 Axes>"
            ],
            "image/png": "[encoded data removed]"
          },
          "metadata": {
            "needs_background": "light"
          }
        }
      ]
    },
    {
      "cell_type": "markdown",
      "source": [
        "# Case 5: unshuffled then split then scale"
      ],
      "metadata": {
        "id": "ASj1zFDwHHAy"
      }
    },
    {
      "cell_type": "code",
      "source": [
        "# GENERATE \n",
        "x = np.linspace(-1, 1, 30000)\n",
        "y = generateData(x)\n",
        "\n",
        "# SHUFFLE\n",
        "x,y = shuffleData(x,'no')\n",
        "print(x)\n",
        "print(y)\n",
        "\n",
        "# SPLIT\n",
        "x_train, y_train, x_test, y_test, x_val, y_val = splitDataIntoTrainValidationTest(x,y,0.50,0.40)\n",
        "\n",
        "# SCALE\n",
        "x_train_scaled = scaleData(x_train)\n",
        "y_train_scaled = scaleData(y_train)\n",
        "\n",
        "model = keras.Sequential([\n",
        "    keras.layers.Dense(units=12, activation='tanh',input_shape=(1,)),\n",
        "    keras.layers.Dense(units=8, activation='tanh'),\n",
        "    keras.layers.Dense(units=4, activation='tanh'),\n",
        "    keras.layers.Dense(units=1, activation='tanh')\n",
        "])\n",
        "model.summary()\n",
        "model.compile(optimizer='adam', \n",
        "              loss='MSE')\n",
        "losses = model.fit(x_train_scaled, y_train_scaled,epochs=20,batch_size=12)\n",
        "evaluation = model.evaluate(x_test, y_test)\n",
        "y_pred = model.predict(x_test)\n",
        "y_pred = np.array(y_pred)\n",
        "\n",
        "print(\"The following are the metrics:\\n\")\n",
        "returnMetrics(y_test,y_pred)\n",
        "plt.plot(x_test, y_test,'r*')\n",
        "plt.title('actual test data\\n')\n",
        "plt.xlabel(\"x_test\")\n",
        "plt.ylabel(\"y_test\")\n",
        "plt.show()\n",
        "\n",
        "plt.plot(x_test, y_pred,'b*')\n",
        "plt.title('predicted data\\n')\n",
        "plt.xlabel(\"x_test\")\n",
        "plt.ylabel(\"y_pred\")\n",
        "plt.show()\n"
      ],
      "metadata": {
        "colab": {
          "base_uri": "https://localhost:8080/",
          "height": 1000
        },
        "id": "fXBzVcueHLnW",
        "outputId": "900c8418-6368-41f4-885a-59590e1bf419"
      },
      "execution_count": null,
      "outputs": [
        {
          "output_type": "stream",
          "name": "stdout",
          "text": [
            "[-1.         -0.99993333 -0.99986666 ...  0.99986666  0.99993333\n",
            "  1.        ]\n",
            "[ 8.3         8.30033332  8.30066661 ... 12.29906677 12.29953335\n",
            " 12.3       ]\n",
            "Model: \"sequential_9\"\n",
            "_________________________________________________________________\n",
            " Layer (type)                Output Shape              Param #   \n",
            "=================================================================\n",
            " dense_32 (Dense)            (None, 12)                24        \n",
            "                                                                 \n",
            " dense_33 (Dense)            (None, 8)                 104       \n",
            "                                                                 \n",
            " dense_34 (Dense)            (None, 4)                 36        \n",
            "                                                                 \n",
            " dense_35 (Dense)            (None, 1)                 5         \n",
            "                                                                 \n",
            "=================================================================\n",
            "Total params: 169\n",
            "Trainable params: 169\n",
            "Non-trainable params: 0\n",
            "_________________________________________________________________\n",
            "Epoch 1/20\n",
            "750/750 [==============================] - 2s 2ms/step - loss: 0.0197\n",
            "Epoch 2/20\n",
            "750/750 [==============================] - 2s 2ms/step - loss: 0.0017\n",
            "Epoch 3/20\n",
            "750/750 [==============================] - 1s 2ms/step - loss: 0.0014\n",
            "Epoch 4/20\n",
            "750/750 [==============================] - 1s 2ms/step - loss: 0.0011\n",
            "Epoch 5/20\n",
            "750/750 [==============================] - 1s 2ms/step - loss: 7.6228e-04\n",
            "Epoch 6/20\n",
            "750/750 [==============================] - 1s 2ms/step - loss: 4.1152e-04\n",
            "Epoch 7/20\n",
            "750/750 [==============================] - 1s 2ms/step - loss: 2.3850e-04\n",
            "Epoch 8/20\n",
            "750/750 [==============================] - 1s 2ms/step - loss: 1.5373e-04\n",
            "Epoch 9/20\n",
            "750/750 [==============================] - 1s 2ms/step - loss: 7.2288e-05\n",
            "Epoch 10/20\n",
            "750/750 [==============================] - 1s 2ms/step - loss: 2.9833e-05\n",
            "Epoch 11/20\n",
            "750/750 [==============================] - 2s 2ms/step - loss: 1.9034e-05\n",
            "Epoch 12/20\n",
            "750/750 [==============================] - 2s 2ms/step - loss: 1.6273e-05\n",
            "Epoch 13/20\n",
            "750/750 [==============================] - 1s 2ms/step - loss: 1.3602e-05\n",
            "Epoch 14/20\n",
            "750/750 [==============================] - 1s 2ms/step - loss: 1.1864e-05\n",
            "Epoch 15/20\n",
            "750/750 [==============================] - 1s 2ms/step - loss: 9.1018e-06\n",
            "Epoch 16/20\n",
            "750/750 [==============================] - 1s 2ms/step - loss: 1.0021e-05\n",
            "Epoch 17/20\n",
            "750/750 [==============================] - 1s 2ms/step - loss: 7.5060e-06\n",
            "Epoch 18/20\n",
            "750/750 [==============================] - 1s 2ms/step - loss: 6.9944e-06\n",
            "Epoch 19/20\n",
            "750/750 [==============================] - 1s 2ms/step - loss: 6.1097e-06\n",
            "Epoch 20/20\n",
            "750/750 [==============================] - 1s 2ms/step - loss: 4.8378e-06\n",
            "469/469 [==============================] - 1s 1ms/step - loss: 99.0399\n",
            "469/469 [==============================] - 1s 1ms/step\n",
            "The following are the metrics:\n",
            "\n",
            "The MAE is:  9.941884504530833\n",
            "The MSE is:  99.03990481585986\n",
            "The RMSE is:  9.951879461481628\n",
            "The R2 is: -233.89867855286084\n"
          ]
        },
        {
          "output_type": "display_data",
          "data": {
            "text/plain": [
              "<Figure size 432x288 with 1 Axes>"
            ],
            "image/png": "[encoded data removed]"
          },
          "metadata": {
            "needs_background": "light"
          }
        },
        {
          "output_type": "display_data",
          "data": {
            "text/plain": [
              "<Figure size 432x288 with 1 Axes>"
            ],
            "image/png": "[encoded data removed]"
          },
          "metadata": {
            "needs_background": "light"
          }
        }
      ]
    },
    {
      "cell_type": "markdown",
      "source": [
        "# Question 6"
      ],
      "metadata": {
        "id": "2HJHI-DRfT-6"
      }
    },
    {
      "cell_type": "code",
      "source": [
        "import numpy as np\n",
        "\n",
        "# Define the input and output data\n",
        "X = np.array([[0, 0], [0, 1], [1, 0], [1, 1]])\n",
        "y = np.array([[0], [1], [1], [0]])\n",
        "\n",
        "# Define the number of nodes in the input layer, hidden layer, and output layer\n",
        "input_nodes = 2\n",
        "hidden_nodes = 3\n",
        "output_nodes = 1\n",
        "\n",
        "# Initialize the weights and biases with random values\n",
        "w1 = np.random.randn(input_nodes, hidden_nodes)\n",
        "b1 = np.random.randn(hidden_nodes)\n",
        "w2 = np.random.randn(hidden_nodes, output_nodes)\n",
        "b2 = np.random.randn(output_nodes)\n",
        "\n",
        "# Define the sigmoid activation function\n",
        "def sigmoid(x):\n",
        "    return 1 / (1 + np.exp(-x))\n",
        "\n",
        "# Define the derivative of the sigmoid function\n",
        "def sigmoid_derivative(x):\n",
        "    return x * (1 - x)\n",
        "\n",
        "# Define learning rate\n",
        "learning_rate = 0.1\n",
        "\n",
        "# Train the neural network\n",
        "for i in range(10000):\n",
        "    # Forward propagation\n",
        "    hidden_layer_activation = np.dot(X, w1) + b1\n",
        "    hidden_layer_output = sigmoid(hidden_layer_activation)\n",
        "    output_layer_activation = np.dot(hidden_layer_output, w2) + b2\n",
        "    predicted_output = sigmoid(output_layer_activation)\n",
        "    \n",
        "    # Backward propagation\n",
        "    error = y - predicted_output\n",
        "    d_predicted_output = error * sigmoid_derivative(predicted_output)\n",
        "    error_hidden_layer = d_predicted_output.dot(w2.T)\n",
        "    d_hidden_layer = error_hidden_layer * sigmoid_derivative(hidden_layer_output)\n",
        "    \n",
        "    # Update the weights and biases\n",
        "    w2 = w2 + hidden_layer_output.T.dot(d_predicted_output) * learning_rate\n",
        "    b2 = b2 + np.sum(d_predicted_output, axis=0, keepdims=True) * learning_rate\n",
        "    w1 = w1 + X.T.dot(d_hidden_layer) * learning_rate\n",
        "    b1 = b1 + np.sum(d_hidden_layer, axis=0, keepdims=True) * learning_rate\n",
        "\n",
        "# Test the neural network\n",
        "hidden_layer_activation = np.dot(X, w1) + b1\n",
        "hidden_layer_output = sigmoid(hidden_layer_activation)\n",
        "output_layer_activation = np.dot(hidden_layer_output, w2) + b2\n",
        "predicted_output = sigmoid(output_layer_activation)\n",
        "print(predicted_output)\n"
      ],
      "metadata": {
        "colab": {
          "base_uri": "https://localhost:8080/"
        },
        "id": "vlrwHXbJfWvs",
        "outputId": "cb278e39-9a7c-4137-c1f8-9be2e761dddc"
      },
      "execution_count": null,
      "outputs": [
        {
          "output_type": "stream",
          "name": "stdout",
          "text": [
            "[[0.05019602]\n",
            " [0.95135392]\n",
            " [0.95434959]\n",
            " [0.04240474]]\n"
          ]
        }
      ]
    }
  ]
}